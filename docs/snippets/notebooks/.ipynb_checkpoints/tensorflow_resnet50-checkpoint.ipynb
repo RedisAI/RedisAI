{
 "cells": [
  {
   "cell_type": "code",
   "execution_count": 2,
   "metadata": {
    "pycharm": {
     "name": "#%%\n"
    }
   },
   "outputs": [
    {
     "ename": "AttributeError",
     "evalue": "module 'PIL.Image' has no attribute 'op'",
     "output_type": "error",
     "traceback": [
      "\u001b[0;31m---------------------------------------------------------------------------\u001b[0m",
      "\u001b[0;31mAttributeError\u001b[0m                            Traceback (most recent call last)",
      "\u001b[0;32m<ipython-input-2-0a2a397ad722>\u001b[0m in \u001b[0;36m<module>\u001b[0;34m\u001b[0m\n\u001b[1;32m     16\u001b[0m \u001b[0;31m# model, image, and image classes\u001b[0m\u001b[0;34m\u001b[0m\u001b[0;34m\u001b[0m\u001b[0;34m\u001b[0m\u001b[0m\n\u001b[1;32m     17\u001b[0m \u001b[0mtf_model_path\u001b[0m \u001b[0;34m=\u001b[0m \u001b[0;34m'./models/tensorflow/imagenet/resnet50.pb'\u001b[0m\u001b[0;34m\u001b[0m\u001b[0;34m\u001b[0m\u001b[0m\n\u001b[0;32m---> 18\u001b[0;31m \u001b[0mimg_jpg\u001b[0m \u001b[0;34m=\u001b[0m \u001b[0mImage\u001b[0m\u001b[0;34m.\u001b[0m\u001b[0mop\u001b[0m\u001b[0;34m/\u001b[0m\u001b[0;34m(\u001b[0m\u001b[0;34m'./data/cat.jpg'\u001b[0m\u001b[0;34m)\u001b[0m\u001b[0;34m\u001b[0m\u001b[0;34m\u001b[0m\u001b[0m\n\u001b[0m\u001b[1;32m     19\u001b[0m \u001b[0mimage_classes\u001b[0m \u001b[0;34m=\u001b[0m \u001b[0mjson\u001b[0m\u001b[0;34m.\u001b[0m\u001b[0mload\u001b[0m\u001b[0;34m(\u001b[0m\u001b[0mop\u001b[0m\u001b[0;34m/\u001b[0m\u001b[0;34m(\u001b[0m\u001b[0;34m\"./data/imagenet_classes.json\"\u001b[0m\u001b[0;34m)\u001b[0m\u001b[0;34m)\u001b[0m\u001b[0;34m\u001b[0m\u001b[0;34m\u001b[0m\u001b[0m\n\u001b[1;32m     20\u001b[0m \u001b[0;34m\u001b[0m\u001b[0m\n",
      "\u001b[0;31mAttributeError\u001b[0m: module 'PIL.Image' has no attribute 'op'"
     ]
    }
   ],
   "source": [
    "!pip install --upgrade \"redisai>=0.5.0\"\n",
    "!pip install --upgrade \"ml2rt\"\n",
    "!pip install --upgrade \"scikit-image\"\n",
    "!pip install --upgrade \"numpy\"\n",
    "!pip install --upgrade \"matplotlib\"\n",
    "!pip install --upgrade \"pillow>=7.0.0\"\n",
    "\n",
    "from PIL import Image\n",
    "import redisai\n",
    "import json\n",
    "import redisai as rai\n",
    "from ml2rt import load_model\n",
    "import numpy as np\n",
    "import matplotlib.pyplot as plt\n",
    "\n",
    "# model, image, and image classes\n",
    "tf_model_path = './models/tensorflow/imagenet/resnet50.pb'\n",
    "img_jpg = Image.op/('./data/cat.jpg')\n",
    "image_classes = json.load(op/(\"./data/imagenet_classes.json\"))\n",
    "\n",
    "# normalize\n",
    "raw_image = np.array(img_jpg).astype(np.float32)\n",
    "img = np.expand_dims(raw_image, axis=0)\n",
    "img /= 256.0\n",
    "\n",
    "# load the model from disk\n",
    "tf_model = load_model(tf_model_path)\n",
    "\n",
    "# connect to RedisAI\n",
    "con = redisai.client.Client(host=\"localhost\", port=6379)\n",
    "\n",
    "# set the model ( only once )\n",
    "con.modelset(\n",
    "    'resnet', rai.Backend.tf, device,\n",
    "    inputs=['images'], outputs=['output'], data=tf_model)\n",
    "\n",
    "# set the tensor \n",
    "tensorset_result = con.tensorset('image', tensor=img)\n",
    "print(tensorset_result)\n",
    "\n",
    "# run the model\n",
    "modelrun_result = con.modelrun('resnet', 'image', 'out')\n",
    "print(modelrun_result)\n",
    "\n",
    "# get results\n",
    "output_tensor = con.tensorget('out', as_numpy=True)\n",
    "\n",
    "# Get the indices of maximum element in numpy array\n",
    "result = np.where(output_tensor == np.amax(output_tensor))\n",
    "\n",
    "print(\"maximum result {:.2f} belongs to image class at position {} which is {}\".format(output_tensor.max(),result[1][0],image_classes[str(result[1][0])]))\n",
    "# display the image and add image class that it belongs to\n",
    "plt.figure()\n",
    "plt.imshow(raw_image)\n",
    "# plt.title(image_classes[str(result[1][0)])\n"
   ]
  },
  {
   "cell_type": "code",
   "execution_count": null,
   "metadata": {
    "pycharm": {
     "name": "#%%\n"
    }
   },
   "outputs": [],
   "source": []
  },
  {
   "cell_type": "code",
   "execution_count": null,
   "metadata": {},
   "outputs": [],
   "source": []
  }
 ],
 "metadata": {
  "kernelspec": {
   "display_name": "Python 3",
   "language": "python",
   "name": "python3"
  },
  "language_info": {
   "codemirror_mode": {
    "name": "ipython",
    "version": 3
   },
   "file_extension": ".py",
   "mimetype": "text/x-python",
   "name": "python",
   "nbconvert_exporter": "python",
   "pygments_lexer": "ipython3",
   "version": "3.6.9"
  },
  "pycharm": {
   "stem_cell": {
    "cell_type": "raw",
    "metadata": {
     "collapsed": false
    },
    "source": []
   }
  }
 },
 "nbformat": 4,
 "nbformat_minor": 1
}
